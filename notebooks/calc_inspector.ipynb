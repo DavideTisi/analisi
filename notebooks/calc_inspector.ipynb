{
 "cells": [
  {
   "cell_type": "code",
   "execution_count": null,
   "metadata": {},
   "outputs": [],
   "source": [
    "import common\n",
    "from common import *"
   ]
  },
  {
   "cell_type": "code",
   "execution_count": null,
   "metadata": {},
   "outputs": [],
   "source": [
    "#wf=load_node(125929)\n",
    "#wf=load_node(128251)\n",
    "wf=load_node(147770)\n",
    "print(wf.label)\n",
    "print(wf.description)\n",
    "#wf2=load_node(129045)\n",
    "#print(wf2.label)\n",
    "#print(wf2.description)"
   ]
  },
  {
   "cell_type": "code",
   "execution_count": null,
   "metadata": {},
   "outputs": [],
   "source": [
    "print_cp_with_traj(wf)"
   ]
  },
  {
   "cell_type": "code",
   "execution_count": null,
   "metadata": {},
   "outputs": [],
   "source": [
    "res,axs,figs,n=force_ratio_histogram(wf)"
   ]
  },
  {
   "cell_type": "code",
   "execution_count": null,
   "metadata": {},
   "outputs": [],
   "source": [
    "#res2,axs2,figs2,n2=force_ratio_histogram(wf2)"
   ]
  },
  {
   "cell_type": "code",
   "execution_count": null,
   "metadata": {},
   "outputs": [],
   "source": [
    "fig,ax,axs=plot_force_ratio(res)\n",
    "#fig2,ax2,axs2=plot_force_ratio(res2,fig=fig,ax=ax)\n",
    "#ax2.grid()\n",
    "ax.legend().set_visible(False)"
   ]
  },
  {
   "cell_type": "code",
   "execution_count": null,
   "metadata": {},
   "outputs": [],
   "source": [
    "fig,ax,axs=plot_force_ratio(res,fig=fig2,ax=ax2)\n",
    "# mu=np.array([40,90,160])\n",
    "# H_c=1.0\n",
    "# N_c=8.0-3*H_c\n",
    "# ax.plot(mu,(1.66e-27*1.0-H_c*9.11e-31*mu/2)/1.66e-27*1.0,label='H dummy',c='k')\n",
    "# ax.plot(mu,(1.66e-27*1-N_c*9.11e-31*mu/2)/(1.66e-27*1),label='N dummy',c='r')\n",
    "# ax.legend(loc=3)"
   ]
  },
  {
   "cell_type": "code",
   "execution_count": null,
   "metadata": {},
   "outputs": [],
   "source": []
  },
  {
   "cell_type": "code",
   "execution_count": null,
   "metadata": {},
   "outputs": [],
   "source": [
    "#full_t=wf.outputs.full_traj\n",
    "#full_t.export('ammoniaca_esplorazione_diagramma_fase/solid.axsf',fileformat='xsf')"
   ]
  },
  {
   "cell_type": "code",
   "execution_count": null,
   "metadata": {},
   "outputs": [],
   "source": [
    "#full_t._repository._get_base_folder().abspath"
   ]
  },
  {
   "cell_type": "code",
   "execution_count": null,
   "metadata": {},
   "outputs": [],
   "source": [
    "\n",
    "#traj=load_node(126884) # superionic\n",
    "#traj=load_node(126746) # superionic\n",
    "#traj=load_node(126722) # maybe plastic -- no, it is superionic\n",
    "#traj=load_node(126650) # maybe plastic -- no, it is superioni (very weak)\n",
    "traj=wf.outputs.nve_prod_traj\n"
   ]
  },
  {
   "cell_type": "code",
   "execution_count": null,
   "metadata": {},
   "outputs": [],
   "source": [
    "wf.description"
   ]
  },
  {
   "cell_type": "code",
   "execution_count": null,
   "metadata": {},
   "outputs": [],
   "source": [
    "wf.outputs.emass"
   ]
  },
  {
   "cell_type": "code",
   "execution_count": null,
   "metadata": {},
   "outputs": [],
   "source": [
    "pickle_dump_name=f'traj_{traj.pk}.pickle'"
   ]
  },
  {
   "cell_type": "code",
   "execution_count": null,
   "metadata": {},
   "outputs": [],
   "source": [
    "print('traj pk = {}'.format(traj.pk))\n",
    "t=traj.get_array('times')\n",
    "\n",
    "natoms=traj.numsites\n",
    "#conversion factor from eV to K\n",
    "k_b=8.617333262145e-5 #eV/K\n",
    "eV_to_K=2/(3*k_b*natoms)\n",
    "\n",
    "print('traj arraynames = {}'.format(traj.get_arraynames()))\n",
    "\n",
    "cmot=traj.get_array('energy_constant_motion')\n",
    "temp=traj.get_array('ionic_temperature')\n",
    "press=traj.get_array('pressure')\n",
    "T_mean=temp.mean()\n",
    "press_mean=press.mean()\n",
    "DT_FS=(t[1]-t[0])*1e3\n",
    "print('DT_FS = {}fs, T = {:.4e}K, P = {:.4e}GPa'.format(DT_FS,T_mean,press_mean))\n",
    "cell_0=traj.get_array('cells')[0]\n",
    "volume=np.linalg.det(cell_0)\n",
    "print('cell = {}'.format(cell_0))\n",
    "print('cell_volume = {} A^3'.format(volume))"
   ]
  },
  {
   "cell_type": "code",
   "execution_count": null,
   "metadata": {},
   "outputs": [],
   "source": [
    "plt_key(traj,'electronic_kinetic_energy',eV_to_K,ylabel='K')\n",
    "plt_key(traj,'energy_constant_motion')\n",
    "plt_key(traj,'ionic_temperature',ylabel='K')\n",
    "plt_key(traj,'pressure',ylabel='GPa')"
   ]
  },
  {
   "cell_type": "code",
   "execution_count": null,
   "metadata": {},
   "outputs": [],
   "source": [
    "np.corrcoef(cmot-cmot.mean(),temp-temp.mean())"
   ]
  },
  {
   "cell_type": "code",
   "execution_count": null,
   "metadata": {},
   "outputs": [],
   "source": [
    "ekinc_const_motion_analysis(traj)"
   ]
  },
  {
   "cell_type": "code",
   "execution_count": null,
   "metadata": {},
   "outputs": [],
   "source": [
    "\n",
    "\n",
    "#write_cp_traj.write_cp_trajectory('test_traj_400K_25GPa_100ps/solid_traj',\n",
    "#                                  traj.get_array('times'),\n",
    "#                                  traj.get_array('positions'),\n",
    "#                                  traj.get_array('velocities'),\n",
    "#                                  traj.get_array('cells'))"
   ]
  },
  {
   "cell_type": "code",
   "execution_count": null,
   "metadata": {},
   "outputs": [],
   "source": [
    "traj2=traj\n",
    "\n",
    "atraj2,atraj2_unw=get_analisi_traj_from_aiida(traj2)\n",
    "resB=atomic_density(atraj2,traj2.get_array('cells')[0])\n",
    "resgnB=fft_density(resB)\n",
    "resgn2B=fft_density(resB,np.array([0,1]))"
   ]
  },
  {
   "cell_type": "code",
   "execution_count": null,
   "metadata": {},
   "outputs": [],
   "source": [
    "plotG=k3d.plot()\n",
    "plotG+=k3d.volume(np.array(resgn2B,dtype='float32'))\n",
    "#plotG+=k3d.volume(np.array(resgn2,dtype='float32'))\n",
    "plotG.display()"
   ]
  },
  {
   "cell_type": "code",
   "execution_count": null,
   "metadata": {},
   "outputs": [],
   "source": [
    "plotG=k3d.plot()\n",
    "plotG+=k3d.volume(np.array(resgnB,dtype='float32'))\n",
    "#plotG+=k3d.volume(np.array(resgn2,dtype='float32'))\n",
    "plotG.display()"
   ]
  },
  {
   "cell_type": "code",
   "execution_count": null,
   "metadata": {},
   "outputs": [],
   "source": [
    "plotG=k3d.plot()\n",
    "plotG+=k3d.volume(scipy.ndimage.gaussian_filter(resB[0],1.2,output='float32'))\n",
    "plotG+=k3d.volume(scipy.ndimage.gaussian_filter(resB[1],1.2,output='float32'))\n",
    "#plotG+=k3d.volume(np.array(resgn2,dtype='float32'))\n",
    "plotG.display()"
   ]
  },
  {
   "cell_type": "code",
   "execution_count": null,
   "metadata": {},
   "outputs": [],
   "source": [
    "atraj,atraj_unw=get_analisi_traj_from_aiida(traj)"
   ]
  },
  {
   "cell_type": "code",
   "execution_count": null,
   "metadata": {},
   "outputs": [],
   "source": [
    "res=atomic_density(atraj,cell_0)"
   ]
  },
  {
   "cell_type": "code",
   "execution_count": null,
   "metadata": {},
   "outputs": [],
   "source": [
    "resgn=fft_density(res)\n",
    "resgn2=fft_density(res,np.array([0,1]))"
   ]
  },
  {
   "cell_type": "code",
   "execution_count": null,
   "metadata": {},
   "outputs": [],
   "source": [
    "@interact(x=widgets.IntSlider(min=0, max=resgn.shape[0]-1, step=1, value=50))\n",
    "def f(x):\n",
    "    plt.figure(dpi=200)\n",
    "    plt.imshow(resgn[x],\n",
    "               norm=pltc.LogNorm(vmin=0.0001,vmax=resgn.max()),\n",
    "               extent=[-resgn.shape[1]/2., resgn.shape[1]/2., -resgn.shape[0]/2., resgn.shape[0]/2. ])"
   ]
  },
  {
   "cell_type": "code",
   "execution_count": null,
   "metadata": {},
   "outputs": [],
   "source": [
    "plotG=k3d.plot()\n",
    "plotG+=k3d.volume(np.array(resgn2,dtype='float32'))\n",
    "plotG.display()"
   ]
  },
  {
   "cell_type": "code",
   "execution_count": null,
   "metadata": {},
   "outputs": [],
   "source": [
    "res_g=scipy.ndimage.gaussian_filter(res[0],1.2,output='float32')\n",
    "res_g1=scipy.ndimage.gaussian_filter(res[1],1.2,output='float32')\n",
    "\n",
    "_, g1_sites = get_local_maximum_idx_s(res_g1,res_g1.max()*0.5 ,minimum_distance=0.5,l=8.5)\n",
    "_, g0_sites = get_local_maximum_idx_s(res_g,res_g.max()*0.5,minimum_distance=0.5,l=8.5)\n",
    "\n",
    "print(len(g1_sites),len(g0_sites))"
   ]
  },
  {
   "cell_type": "code",
   "execution_count": null,
   "metadata": {},
   "outputs": [],
   "source": [
    "density_field(res_g,res_g1)"
   ]
  },
  {
   "cell_type": "code",
   "execution_count": null,
   "metadata": {},
   "outputs": [],
   "source": [
    "plotN=k3d.plot()\n",
    "points = k3d.points(g0_sites,point_size=0.5)\n",
    "points1 = k3d.points(g1_sites,point_size=0.1)\n",
    "plotN+=points\n",
    "plotN+=points1\n",
    "plotN.display()"
   ]
  },
  {
   "cell_type": "code",
   "execution_count": null,
   "metadata": {},
   "outputs": [],
   "source": [
    "import pymatgen as pmg"
   ]
  },
  {
   "cell_type": "code",
   "execution_count": null,
   "metadata": {},
   "outputs": [],
   "source": [
    "#abc=[ traj.get_array('cells')[0,i,i] for i in range(3)]\n",
    "lattice=pmg.core.lattice.Lattice(traj.get_array('cells')[0])"
   ]
  },
  {
   "cell_type": "code",
   "execution_count": null,
   "metadata": {},
   "outputs": [],
   "source": [
    "N_structure = pmg.core.structure.Structure(lattice=lattice,\n",
    "                                           species=['N']*len(g0_sites),\n",
    "                                           coords=g0_sites,\n",
    "                                           coords_are_cartesian=False)"
   ]
  },
  {
   "cell_type": "code",
   "execution_count": null,
   "metadata": {},
   "outputs": [],
   "source": [
    "N_structure_primitive=N_structure.get_primitive_structure()"
   ]
  },
  {
   "cell_type": "code",
   "execution_count": null,
   "metadata": {},
   "outputs": [],
   "source": [
    "N_structure.get_primitive_structure()"
   ]
  },
  {
   "cell_type": "code",
   "execution_count": null,
   "metadata": {},
   "outputs": [],
   "source": [
    "N_structure_primitive.make_supercell([3,3,3])\n",
    "N_structure_primitive.cart_coords"
   ]
  },
  {
   "cell_type": "code",
   "execution_count": null,
   "metadata": {},
   "outputs": [],
   "source": [
    "plotN2=k3d.plot()\n",
    "points2 = k3d.points(N_structure_primitive.cart_coords,point_size=0.1)\n",
    "plotN2+=points2\n",
    "plotN2.display()"
   ]
  },
  {
   "cell_type": "code",
   "execution_count": null,
   "metadata": {},
   "outputs": [],
   "source": [
    "analisi = pickle_or_unpickle(pickle_dump_name)\n",
    "if analisi is None:\n",
    "    analisi=analyze(atraj,atraj_unw,0,atraj.getNtimesteps(),tskip_msd=10,tskip_sh=40)\n",
    "    pickle_or_unpickle(pickle_dump_name,analisi = analisi)\n",
    "msd,gofr,sh=analisi"
   ]
  },
  {
   "cell_type": "code",
   "execution_count": null,
   "metadata": {},
   "outputs": [],
   "source": [
    "plot_gofr(0.5,3.8,gofr)"
   ]
  },
  {
   "cell_type": "code",
   "execution_count": null,
   "metadata": {},
   "outputs": [],
   "source": [
    "ax,axins,fitres=plot_sh(0.7,3.5,t,sh,0,1,0,scale_exp_coeff=0.2,log=False)\n",
    "ax.set_ylim([0e-2,1.0])"
   ]
  },
  {
   "cell_type": "code",
   "execution_count": null,
   "metadata": {},
   "outputs": [],
   "source": [
    "plot_msd(t,msd,0)"
   ]
  },
  {
   "cell_type": "markdown",
   "metadata": {},
   "source": [
    "# transport properties and cepstral analysis"
   ]
  },
  {
   "cell_type": "code",
   "execution_count": null,
   "metadata": {},
   "outputs": [],
   "source": [
    "import thermocepstrum as tc"
   ]
  },
  {
   "cell_type": "code",
   "execution_count": null,
   "metadata": {},
   "outputs": [],
   "source": [
    "jfile = tc.i_o.TableFile(current_file, group_vectors=True)"
   ]
  },
  {
   "cell_type": "code",
   "execution_count": null,
   "metadata": {},
   "outputs": [],
   "source": [
    "jfile.read_datalines(select_ckeys=['j', 'je', 'jn','jh'])"
   ]
  },
  {
   "cell_type": "code",
   "execution_count": null,
   "metadata": {},
   "outputs": [],
   "source": [
    "j = tc.HeatCurrent([jfile.data['j'],jfile.data['je'],jfile.data['jh']],\n",
    "                   UNITS='qepw', DT_FS=DT_FS, TEMPERATURE=T_mean, VOLUME=volume)"
   ]
  },
  {
   "cell_type": "code",
   "execution_count": null,
   "metadata": {},
   "outputs": [],
   "source": [
    "\n",
    "f, ax = plt.subplots(2, sharex=True)\n",
    "ax[0].plot(j.timeseries()/1000., j.traj);\n",
    "ax[1].plot(j.timeseries()/1000., j.otherMD[0].traj);\n",
    "plt.xlim([50, 50.1])\n",
    "plt.xlabel(r'$t$ [ps]')\n",
    "ax[0].set_ylabel(r'$J^0$ [eV A/ps]');\n",
    "ax[1].set_ylabel(r'$J^1$ [A/ps]');"
   ]
  },
  {
   "cell_type": "code",
   "execution_count": null,
   "metadata": {},
   "outputs": [],
   "source": [
    "ax = j.plot_periodogram(PSD_FILTER_W=0.4, kappa_units=True, label=r'$\\bar{\\mathcal{S}}^0_k$')\n",
    "print(j.Nyquist_f_THz)\n",
    "\n",
    "# compare with the spectrum of the energy flux\n",
    "jen = tc.HeatCurrent(jfile.data['j'],\n",
    "                     UNITS='qepw', DT_FS=DT_FS, TEMPERATURE=T_mean, VOLUME=volume)\n",
    "ax = jen.plot_periodogram(axes=ax, PSD_FILTER_W=0.4, kappa_units=True, label=r'$\\mathcal{S}^0_k$')\n",
    "#plt.xlim([0, 20])\n",
    "#ax[0].set_ylim([0, 0.8]);\n",
    "#ax[1].set_ylim([7, 18]);\n",
    "ax[0].legend(); ax[1].legend();\n"
   ]
  },
  {
   "cell_type": "code",
   "execution_count": null,
   "metadata": {},
   "outputs": [],
   "source": [
    "ax = j.plot_periodogram(PSD_FILTER_W=0.4, kappa_units=True, label=r'$\\bar{\\mathcal{S}}^0_k$')\n",
    "print(j.Nyquist_f_THz)\n",
    "ax = jen.plot_periodogram(axes=ax, PSD_FILTER_W=0.4, kappa_units=True, label=r'$\\mathcal{S}^0_k$')\n",
    "plt.xlim([0, 40])\n",
    "ax[0].set_ylim([0, 10]);\n",
    "#ax[1].set_ylim([7, 18]);\n",
    "ax[0].legend(); ax[1].legend();"
   ]
  },
  {
   "cell_type": "code",
   "execution_count": null,
   "metadata": {},
   "outputs": [],
   "source": [
    "FSTAR_THZ = 40.0\n",
    "jf, ax = j.resample(fstar_THz=FSTAR_THZ, plot=True, freq_units='thz')\n",
    "plt.xlim([0, 40])\n",
    "#ax[1].set_ylim([7, 18]);"
   ]
  },
  {
   "cell_type": "code",
   "execution_count": null,
   "metadata": {},
   "outputs": [],
   "source": [
    "jf.cepstral_analysis()"
   ]
  },
  {
   "cell_type": "code",
   "execution_count": null,
   "metadata": {},
   "outputs": [],
   "source": [
    "# Cepstral Coefficients\n",
    "print('c_k = ', jf.dct.logpsdK)\n",
    "\n",
    "ax = jf.plot_ck()\n",
    "ax.set_xlim([0, 50])\n",
    "ax.set_ylim([-0.2, 1.0])\n",
    "ax.grid();"
   ]
  },
  {
   "cell_type": "code",
   "execution_count": null,
   "metadata": {},
   "outputs": [],
   "source": [
    "# AIC function\n",
    "f = plt.figure()\n",
    "plt.plot(jf.dct.aic, '.-')\n",
    "plt.xlim([0, 50])\n",
    "#plt.ylim([1400, 1500]);\n",
    "\n",
    "print('K of AIC_min = {:d}'.format(jf.dct.aic_Kmin))\n",
    "print('AIC_min = {:f}'.format(jf.dct.aic_min))"
   ]
  },
  {
   "cell_type": "code",
   "execution_count": null,
   "metadata": {},
   "outputs": [],
   "source": [
    "\n",
    "# L_0 as a function of cutoff K\n",
    "ax = jf.plot_L0_Pstar()\n",
    "ax.set_xlim([0, 50])\n",
    "#ax.set_ylim([14.75, 16.5]);\n",
    "\n",
    "print('K of AIC_min = {:d}'.format(jf.dct.aic_Kmin))\n",
    "print('AIC_min = {:f}'.format(jf.dct.aic_min))"
   ]
  },
  {
   "cell_type": "code",
   "execution_count": null,
   "metadata": {},
   "outputs": [],
   "source": [
    "# kappa as a function of cutoff K\n",
    "ax = jf.plot_kappa_Pstar()\n",
    "ax.set_xlim([0, 50])\n",
    "ax.set_ylim([0, 6.0]);\n",
    "\n",
    "print('K of AIC_min = {:d}'.format(jf.dct.aic_Kmin))\n",
    "print('AIC_min = {:f}'.format(jf.dct.aic_min))"
   ]
  },
  {
   "cell_type": "code",
   "execution_count": null,
   "metadata": {},
   "outputs": [],
   "source": [
    "\n",
    "# filtered log-PSD\n",
    "ax = j.plot_periodogram(0.5, kappa_units=True)\n",
    "ax = jf.plot_periodogram(0.5, axes=ax, kappa_units=True)\n",
    "ax = jf.plot_cepstral_spectrum(axes=ax, kappa_units=True)\n",
    "ax[0].axvline(x = jf.Nyquist_f_THz, ls='--', c='r')\n",
    "ax[1].axvline(x = jf.Nyquist_f_THz, ls='--', c='r')\n",
    "plt.xlim([0, 20])\n",
    "ax[0].set_ylim([0, 10.8]);\n",
    "#ax[1].set_ylim([7, 18]);\n",
    "ax[0].legend(['original', 'resampled', 'cepstrum-filtered'])\n",
    "ax[1].legend(['original', 'resampled', 'cepstrum-filtered']);"
   ]
  },
  {
   "cell_type": "markdown",
   "metadata": {},
   "source": [
    "# electric conductivity\n",
    "Note: in the header the label jh and jn are inverted: the label jh is the Nitrogen current while jn labels Hydrogen current."
   ]
  },
  {
   "cell_type": "code",
   "execution_count": null,
   "metadata": {},
   "outputs": [],
   "source": [
    "j_el = tc.ElectricCurrent([-jfile.data['je']+32*5*jfile.data['jh']+96*jfile.data['jn']],\n",
    "                   UNITS='qepw', DT_FS=DT_FS, TEMPERATURE=T_mean, VOLUME=volume)\n",
    "\n",
    "\n",
    "f, ax = plt.subplots(2, sharex=True)\n",
    "ax[0].plot(j_el.timeseries()/1000., j_el.traj);\n",
    "plt.xlim([50, 50.1])\n",
    "plt.xlabel(r'$t$ [ps]')\n",
    "ax[0].set_ylabel(r'$J^0$ [eV A/ps]');\n",
    "\n",
    "ax = j_el.plot_periodogram(PSD_FILTER_W=0.4, kappa_units=True, label=r'$\\bar{\\mathcal{S}}^0_k$')\n",
    "print(j.Nyquist_f_THz)\n",
    "\n",
    "\n",
    "\n",
    "\n",
    "\n",
    "FSTAR_THZ = 40.0\n",
    "jf_el, ax = j_el.resample(fstar_THz=FSTAR_THZ, plot=True, freq_units='thz')\n",
    "plt.xlim([0, 40])\n",
    "#ax[1].set_ylim([7, 18]);\n",
    "\n",
    "jf_el.cepstral_analysis()\n",
    "\n",
    "# Cepstral Coefficients\n",
    "print('c_k = ', jf_el.dct.logpsdK)\n",
    "\n",
    "ax = jf_el.plot_ck()\n",
    "ax.set_xlim([0, 50])\n",
    "#ax.set_ylim([-0.2, 1.0])\n",
    "ax.grid();\n",
    "\n",
    "# AIC function\n",
    "f = plt.figure()\n",
    "plt.plot(jf_el.dct.aic, '.-')\n",
    "plt.xlim([0, 50])\n",
    "#plt.ylim([1400, 1500]);\n",
    "\n",
    "print('K of AIC_min = {:d}'.format(jf_el.dct.aic_Kmin))\n",
    "print('AIC_min = {:f}'.format(jf_el.dct.aic_min))\n",
    "\n",
    "\n",
    "# L_0 as a function of cutoff K\n",
    "ax = jf_el.plot_L0_Pstar()\n",
    "ax.set_xlim([0, 200])\n",
    "#ax.set_ylim([14.75, 16.5]);\n",
    "\n",
    "print('K of AIC_min = {:d}'.format(jf_el.dct.aic_Kmin))\n",
    "print('AIC_min = {:f}'.format(jf_el.dct.aic_min))\n",
    "\n",
    "# kappa as a function of cutoff K\n",
    "ax = jf_el.plot_kappa_Pstar()\n",
    "ax.set_xlim([0, 200])\n",
    "#ax.set_ylim([0, 6.0]);\n",
    "\n",
    "print('K of AIC_min = {:d}'.format(jf_el.dct.aic_Kmin))\n",
    "print('AIC_min = {:f}'.format(jf_el.dct.aic_min))\n",
    "\n",
    "\n",
    "# filtered log-PSD\n",
    "ax = j_el.plot_periodogram(0.5, kappa_units=True)\n",
    "ax = jf_el.plot_periodogram(0.5, axes=ax, kappa_units=True)\n",
    "ax = jf_el.plot_cepstral_spectrum(axes=ax, kappa_units=True)\n",
    "ax[0].axvline(x = jf_el.Nyquist_f_THz, ls='--', c='r')\n",
    "ax[1].axvline(x = jf_el.Nyquist_f_THz, ls='--', c='r')\n",
    "plt.xlim([0, 20])\n",
    "#ax[0].set_ylim([0, 10.8]);\n",
    "#ax[1].set_ylim([7, 18]);\n",
    "ax[0].legend(['original', 'resampled', 'cepstrum-filtered'])\n",
    "ax[1].legend(['original', 'resampled', 'cepstrum-filtered']);\n",
    "\n",
    "j_el = tc.ElectricCurrent([32*3*jfile.data['jh']-96*jfile.data['jn']],\n",
    "                   UNITS='qepw', DT_FS=DT_FS, TEMPERATURE=T_mean, VOLUME=volume)\n",
    "\n",
    "\n",
    "f, ax = plt.subplots(2, sharex=True)\n",
    "ax[0].plot(j_el.timeseries()/1000., j_el.traj);\n",
    "plt.xlim([50, 50.1])\n",
    "plt.xlabel(r'$t$ [ps]')\n",
    "ax[0].set_ylabel(r'$J^0$ [eV A/ps]');\n",
    "\n",
    "ax = j_el.plot_periodogram(PSD_FILTER_W=0.4, kappa_units=True, label=r'$\\bar{\\mathcal{S}}^0_k$')\n",
    "print(j.Nyquist_f_THz)\n",
    "\n",
    "\n",
    "\n",
    "\n",
    "\n",
    "FSTAR_THZ = 40.0\n",
    "jf_el, ax = j_el.resample(fstar_THz=FSTAR_THZ, plot=True, freq_units='thz')\n",
    "plt.xlim([0, 40])\n",
    "#ax[1].set_ylim([7, 18]);\n",
    "\n",
    "jf_el.cepstral_analysis()\n",
    "\n",
    "# Cepstral Coefficients\n",
    "print('c_k = ', jf_el.dct.logpsdK)\n",
    "\n",
    "ax = jf_el.plot_ck()\n",
    "ax.set_xlim([0, 50])\n",
    "#ax.set_ylim([-0.2, 1.0])\n",
    "ax.grid();\n",
    "\n",
    "# AIC function\n",
    "f = plt.figure()\n",
    "plt.plot(jf_el.dct.aic, '.-')\n",
    "plt.xlim([0, 50])\n",
    "#plt.ylim([1400, 1500]);\n",
    "\n",
    "print('K of AIC_min = {:d}'.format(jf_el.dct.aic_Kmin))\n",
    "print('AIC_min = {:f}'.format(jf_el.dct.aic_min))\n",
    "\n",
    "\n",
    "# L_0 as a function of cutoff K\n",
    "ax = jf_el.plot_L0_Pstar()\n",
    "ax.set_xlim([0, 200])\n",
    "#ax.set_ylim([14.75, 16.5]);\n",
    "\n",
    "print('K of AIC_min = {:d}'.format(jf_el.dct.aic_Kmin))\n",
    "print('AIC_min = {:f}'.format(jf_el.dct.aic_min))\n",
    "\n",
    "# kappa as a function of cutoff K\n",
    "ax = jf_el.plot_kappa_Pstar()\n",
    "ax.set_xlim([0, 200])\n",
    "#ax.set_ylim([0, 6.0]);\n",
    "\n",
    "print('K of AIC_min = {:d}'.format(jf_el.dct.aic_Kmin))\n",
    "print('AIC_min = {:f}'.format(jf_el.dct.aic_min))\n",
    "\n",
    "\n",
    "# filtered log-PSD\n",
    "ax = j_el.plot_periodogram(0.5, kappa_units=True)\n",
    "ax = jf_el.plot_periodogram(0.5, axes=ax, kappa_units=True)\n",
    "ax = jf_el.plot_cepstral_spectrum(axes=ax, kappa_units=True)\n",
    "ax[0].axvline(x = jf_el.Nyquist_f_THz, ls='--', c='r')\n",
    "ax[1].axvline(x = jf_el.Nyquist_f_THz, ls='--', c='r')\n",
    "plt.xlim([0, 20])\n",
    "#ax[0].set_ylim([0, 10.8]);\n",
    "#ax[1].set_ylim([7, 18]);\n",
    "ax[0].legend(['original', 'resampled', 'cepstrum-filtered'])\n",
    "ax[1].legend(['original', 'resampled', 'cepstrum-filtered']);"
   ]
  },
  {
   "cell_type": "code",
   "execution_count": null,
   "metadata": {},
   "outputs": [],
   "source": [
    "freq = load_node(145978)\n"
   ]
  },
  {
   "cell_type": "code",
   "execution_count": null,
   "metadata": {},
   "outputs": [],
   "source": [
    "bugged_traj=freq.get_incoming().all_nodes()[0].get_incoming().all_nodes()[0]"
   ]
  },
  {
   "cell_type": "code",
   "execution_count": null,
   "metadata": {},
   "outputs": [],
   "source": [
    "get_maximum_frequency_vdos(bugged_traj)"
   ]
  },
  {
   "cell_type": "code",
   "execution_count": null,
   "metadata": {},
   "outputs": [],
   "source": [
    "bugged_traj.get_array('times')"
   ]
  },
  {
   "cell_type": "code",
   "execution_count": null,
   "metadata": {},
   "outputs": [],
   "source": [
    "plt.plot(np.fft.fftfreq(bugged_traj.get_array('velocities').shape[0],bugged_traj.get_array('times')[-1]-bugged_traj.get_array('times')[-2]),\n",
    "         np.abs(np.fft.fft(bugged_traj.get_array('velocities'),axis=0)).mean(axis=1).mean(axis=1))"
   ]
  },
  {
   "cell_type": "code",
   "execution_count": null,
   "metadata": {},
   "outputs": [],
   "source": [
    "if  hasattr(bugged_traj,'pippo'):\n",
    "    print('ciao')"
   ]
  },
  {
   "cell_type": "code",
   "execution_count": null,
   "metadata": {},
   "outputs": [],
   "source": [
    "bugged_traj.get_array('times').shape[0]"
   ]
  },
  {
   "cell_type": "code",
   "execution_count": null,
   "metadata": {},
   "outputs": [],
   "source": []
  }
 ],
 "metadata": {
  "kernelspec": {
   "display_name": "Python 3",
   "language": "python",
   "name": "python3"
  },
  "language_info": {
   "codemirror_mode": {
    "name": "ipython",
    "version": 3
   },
   "file_extension": ".py",
   "mimetype": "text/x-python",
   "name": "python",
   "nbconvert_exporter": "python",
   "pygments_lexer": "ipython3",
   "version": "3.7.3"
  }
 },
 "nbformat": 4,
 "nbformat_minor": 4
}
